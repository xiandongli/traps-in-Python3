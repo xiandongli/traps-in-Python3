{
 "cells": [
  {
   "cell_type": "markdown",
   "metadata": {},
   "source": [
    "### 函数内部引用外部list/dict/set变量可不用`global`关键字声明(要小心)\n",
    "### 函数内部引用外部int/str变量必须用global关键字声明"
   ]
  },
  {
   "cell_type": "code",
   "execution_count": 1,
   "metadata": {},
   "outputs": [
    {
     "name": "stdout",
     "output_type": "stream",
     "text": [
      "in f, a = [0, 1]\n",
      "in f, id(a) = 4564313736\n",
      "out f, a = [0, 1]\n",
      "out f, id(a) = 4564313736\n"
     ]
    }
   ],
   "source": [
    "a = [0]\n",
    "\n",
    "def f():\n",
    "    a.append(1)\n",
    "    print(\"in f, a =\", a)\n",
    "    print(\"in f, id(a) =\", id(a))\n",
    "\n",
    "f()\n",
    "print(\"out f, a =\", a)\n",
    "print(\"out f, id(a) =\", id(a))\n"
   ]
  },
  {
   "cell_type": "code",
   "execution_count": 2,
   "metadata": {},
   "outputs": [
    {
     "name": "stdout",
     "output_type": "stream",
     "text": [
      "in f, a = {0: 0}\n",
      "in f, id(a) = 4565306464\n",
      "out f, a = {0: 0}\n",
      "out f, id(a) = 4565306464\n"
     ]
    }
   ],
   "source": [
    "a = {}\n",
    "\n",
    "def f():\n",
    "    a[0] = 0\n",
    "    print(\"in f, a =\", a)\n",
    "    print(\"in f, id(a) =\", id(a))\n",
    "\n",
    "f()\n",
    "print(\"out f, a =\", a)\n",
    "print(\"out f, id(a) =\", id(a))\n"
   ]
  },
  {
   "cell_type": "code",
   "execution_count": 3,
   "metadata": {},
   "outputs": [
    {
     "name": "stdout",
     "output_type": "stream",
     "text": [
      "in f, a = {0}\n",
      "in f, id(a) = 4564511880\n",
      "out f, a = {0}\n",
      "out f, id(a) = 4564511880\n"
     ]
    }
   ],
   "source": [
    "a = set()\n",
    "\n",
    "def f():\n",
    "    a.add(0)\n",
    "    print(\"in f, a =\", a)\n",
    "    print(\"in f, id(a) =\", id(a))\n",
    "\n",
    "f()\n",
    "print(\"out f, a =\", a)\n",
    "print(\"out f, id(a) =\", id(a))\n"
   ]
  },
  {
   "cell_type": "markdown",
   "metadata": {},
   "source": [
    "**Reference**  \n",
    "[实例讲解Python中global语句下全局变量的值的修改](https://www.jb51.net/article/86765.htm)"
   ]
  },
  {
   "cell_type": "code",
   "execution_count": null,
   "metadata": {},
   "outputs": [],
   "source": []
  }
 ],
 "metadata": {
  "kernelspec": {
   "display_name": "Python 3",
   "language": "python",
   "name": "python3"
  },
  "language_info": {
   "codemirror_mode": {
    "name": "ipython",
    "version": 3
   },
   "file_extension": ".py",
   "mimetype": "text/x-python",
   "name": "python",
   "nbconvert_exporter": "python",
   "pygments_lexer": "ipython3",
   "version": "3.7.0"
  }
 },
 "nbformat": 4,
 "nbformat_minor": 2
}
